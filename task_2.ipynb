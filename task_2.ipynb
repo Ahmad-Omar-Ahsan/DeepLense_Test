{
 "cells": [
  {
   "cell_type": "code",
   "execution_count": 2,
   "metadata": {},
   "outputs": [],
   "source": [
    "import torch\n",
    "import numpy as np\n",
    "import matplotlib.pyplot as plt\n",
    "from astropy.io import fits\n",
    "import os\n",
    "from torch.utils.data import Dataset,Subset\n",
    "import pandas as pd\n",
    "import re"
   ]
  },
  {
   "cell_type": "code",
   "execution_count": 3,
   "metadata": {},
   "outputs": [],
   "source": [
    "file_path = '/media/saitomar/Work/Projects/DeepLense_Test/task_2_dataset/files/imageEUC_VIS-100000.fits'\n",
    "hdul = fits.open(file_path)"
   ]
  },
  {
   "cell_type": "code",
   "execution_count": 4,
   "metadata": {},
   "outputs": [],
   "source": [
    "class FitDataset(Dataset):\n",
    "    def __init__(self, folder_path : str, label_file : str):\n",
    "        \n",
    "        self.folder_path = folder_path\n",
    "        self.label_file = label_file\n",
    "        self.filenames = os.listdir(self.folder_path)\n",
    "        self.csv_file = pd.read_csv(self.label_file)\n",
    "\n",
    "    def __len__(self):\n",
    "        return len(self.filenames)\n",
    "    \n",
    "    def __getitem__(self, index):\n",
    "        \n",
    "        filename = os.path.join(self.folder_path, self.filenames[index])\n",
    "        ID = re.findall('\\d+',self.filenames[index])[0]\n",
    "        \n",
    "        df = self.csv_file.loc[self.csv_file['ID'] == int(ID)]\n",
    "        label = df['is_lens'].values\n",
    "\n",
    "        with fits.open(filename) as hdul:\n",
    "            data = hdul[0].data\n",
    "\n",
    "        data = data.astype(np.float32)\n",
    "        tensor_data = torch.from_numpy(data).float().unsqueeze(dim=0)\n",
    "\n",
    "        return tensor_data, label[0]\n",
    "    \n"
   ]
  },
  {
   "cell_type": "code",
   "execution_count": 5,
   "metadata": {},
   "outputs": [],
   "source": [
    "ds = FitDataset('/media/saitomar/Work/Projects/DeepLense_Test/task_2_dataset/files', '/media/saitomar/Work/Projects/DeepLense_Test/task_2_dataset/classifications.csv')\n"
   ]
  },
  {
   "cell_type": "code",
   "execution_count": 15,
   "metadata": {},
   "outputs": [
    {
     "name": "stdout",
     "output_type": "stream",
     "text": [
      "torch.Size([1, 101, 101]) 1\n",
      "torch.Size([1, 101, 101]) 1\n",
      "torch.Size([1, 101, 101]) 1\n",
      "torch.Size([1, 101, 101]) 1\n",
      "torch.Size([1, 101, 101]) 0\n",
      "torch.Size([1, 101, 101]) 0\n",
      "torch.Size([1, 101, 101]) 0\n",
      "torch.Size([1, 101, 101]) 1\n",
      "torch.Size([1, 101, 101]) 1\n",
      "torch.Size([1, 101, 101]) 0\n",
      "torch.Size([1, 101, 101]) 1\n",
      "torch.Size([1, 101, 101]) 1\n",
      "torch.Size([1, 101, 101]) 0\n",
      "torch.Size([1, 101, 101]) 1\n",
      "torch.Size([1, 101, 101]) 0\n",
      "torch.Size([1, 101, 101]) 0\n",
      "torch.Size([1, 101, 101]) 0\n"
     ]
    }
   ],
   "source": [
    "# rows = 4\n",
    "# columns = 4\n",
    "\n",
    "# fig, axes = plt.subplots(nrows=rows, ncols=columns, figsize=(columns*3, rows*3))\n",
    "for i,(sample, label) in enumerate(ds):\n",
    "    print(sample.shape,label)\n",
    "    # fig.add_subplot(rows, columns, i+1)\n",
    "    # plt.imshow(sample.squeeze(dim=0))\n",
    "    # plt.xlabel(f'Label: {label}')\n",
    "\n",
    "    if i == 16:\n",
    "        break\n"
   ]
  },
  {
   "cell_type": "code",
   "execution_count": null,
   "metadata": {},
   "outputs": [],
   "source": []
  }
 ],
 "metadata": {
  "kernelspec": {
   "display_name": "unleashing",
   "language": "python",
   "name": "python3"
  },
  "language_info": {
   "codemirror_mode": {
    "name": "ipython",
    "version": 3
   },
   "file_extension": ".py",
   "mimetype": "text/x-python",
   "name": "python",
   "nbconvert_exporter": "python",
   "pygments_lexer": "ipython3",
   "version": "3.8.5"
  },
  "orig_nbformat": 4
 },
 "nbformat": 4,
 "nbformat_minor": 2
}
