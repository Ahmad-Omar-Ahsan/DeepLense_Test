{
 "cells": [
  {
   "attachments": {},
   "cell_type": "markdown",
   "metadata": {},
   "source": [
    "# Task 2\n",
    "In this task, ConvNext model will be used to perform lens classification. First a config file will be created containing the hyperparameters of the experiment. Then a script will be executed to initiate the training process and the model checkpoint will be saved. Finally, ROC curve and AUC score will be calculated. \n",
    "\n",
    "\n"
   ]
  },
  {
   "attachments": {},
   "cell_type": "markdown",
   "metadata": {},
   "source": [
    "## Dataset preparation\n",
    "\n",
    "Dataset has been split in the following way:\n",
    "- Train set and test set are split into 90:10 ratio as per the instructions.\n",
    "- Within the train set 95:5 ratio is used to split into train and validation\n",
    "\n",
    "More can be found on `utils/dataset.py`"
   ]
  },
  {
   "cell_type": "code",
   "execution_count": 1,
   "metadata": {},
   "outputs": [],
   "source": [
    "from torchvision import transforms\n",
    "import os\n",
    "from torch.utils.data import DataLoader, Subset, Dataset\n",
    "from torchvision.datasets import DatasetFolder\n",
    "import numpy as np\n",
    "from sklearn.model_selection import train_test_split\n",
    "import torch\n",
    "from sklearn.metrics import roc_curve, auc\n",
    "import torch.nn.functional as F \n",
    "from utils import get_model, generate_model_outputs, get_dataset_t2\n",
    "import pandas as pd\n",
    "from astropy.io import fits\n",
    "import re"
   ]
  },
  {
   "cell_type": "code",
   "execution_count": null,
   "metadata": {},
   "outputs": [],
   "source": [
    "\n",
    "class FitDataset(Dataset):\n",
    "    def __init__(self, folder_path: str, label_file: str):\n",
    "\n",
    "        self.folder_path = folder_path\n",
    "        self.label_file = label_file\n",
    "        self.filenames = os.listdir(self.folder_path)\n",
    "        self.csv_file = pd.read_csv(self.label_file)\n",
    "        self.labels = self.csv_file[\"is_lens\"].values\n",
    "\n",
    "    def __len__(self):\n",
    "        return len(self.filenames)\n",
    "\n",
    "    def __getitem__(self, index):\n",
    "\n",
    "        filename = os.path.join(self.folder_path, self.filenames[index])\n",
    "        ID = re.findall(\"\\d+\", self.filenames[index])[0]\n",
    "\n",
    "        df = self.csv_file.loc[self.csv_file[\"ID\"] == int(ID)]\n",
    "        label = df[\"is_lens\"].values\n",
    "\n",
    "        with fits.open(filename) as hdul:\n",
    "            data = hdul[0].data\n",
    "\n",
    "        data = data.astype(np.float32)\n",
    "        tensor_data = torch.from_numpy(data).float().unsqueeze(dim=0)\n",
    "\n",
    "        return tensor_data, label[0]\n",
    "\n",
    "\n",
    "def get_dataset_t2(dataset_dir: str, batch_size: int = 16):\n",
    "    training_dir = os.path.join(dataset_dir, \"files\")\n",
    "    label_file = os.path.join(dataset_dir, \"classifications.csv\")\n",
    "    ds = FitDataset(training_dir, label_file=label_file)\n",
    "\n",
    "    # Split ratio 90-10 for train-test\n",
    "    train_idx, test_idx = train_test_split(\n",
    "        np.arange(len(ds)), test_size=0.1, shuffle=True, stratify=ds.labels\n",
    "    )\n",
    "\n",
    "    train_labels = ds.labels\n",
    "\n",
    "    # Split ratio for new train set into train and val 95-5\n",
    "    train_idx, val_idx = train_test_split(\n",
    "        np.arange(len(train_idx)),\n",
    "        test_size=0.05,\n",
    "        shuffle=True,\n",
    "        stratify=train_labels[train_idx],\n",
    "    )\n",
    "\n",
    "    train_ds = Subset(ds, indices=train_idx)\n",
    "    val_ds = Subset(ds, indices=val_idx)\n",
    "    test_ds = Subset(ds, indices=test_idx)\n",
    "\n",
    "    # print(f\"train_ds : {len(train_ds)}, val_ds: {len(val_ds)}, test_ds: {len(test_ds)}\")\n",
    "    train_dataloader = DataLoader(train_ds, batch_size=batch_size, shuffle=True)\n",
    "    val_dataloader = DataLoader(val_ds, batch_size=batch_size, shuffle=True)\n",
    "    test_dataloader = DataLoader(test_ds, batch_size=batch_size, shuffle=True)\n",
    "\n",
    "    return train_dataloader, val_dataloader, test_dataloader"
   ]
  },
  {
   "attachments": {},
   "cell_type": "markdown",
   "metadata": {},
   "source": [
    "## Create config file\n"
   ]
  },
  {
   "cell_type": "code",
   "execution_count": null,
   "metadata": {},
   "outputs": [],
   "source": [
    "conf = \"\"\"\n",
    "\n",
    "\n",
    "exp:\n",
    "  cache: 2\n",
    "  data_dir: /media/saitomar/Work/Projects/DeepLense_Test/task_2_dataset\n",
    "  device: cuda\n",
    "  exp_dir: ./runs\n",
    "  exp_name: Task2-ConvNext-0.1\n",
    "  log_freq: 20\n",
    "  log_to_file: false\n",
    "  log_to_stdout: true\n",
    "  n_workers: 1\n",
    "  pin_memory: true\n",
    "  proj_name: DeepLense\n",
    "  save_dir: ./runs/Task2-ConvNext-0.1\n",
    "  task: t2\n",
    "  val_freq: 1\n",
    "  wandb: true\n",
    "  wandb_api_key: /media/saitomar/Work/Projects/DeepLense_Test/api_key.txt\n",
    "hparams:\n",
    "  batch_size: 16\n",
    "  device: cuda\n",
    "  l_smooth: null\n",
    "  model:\n",
    "    ConvNext_backbone:\n",
    "      in_channels: 1\n",
    "      num_classes: 2\n",
    "    type: ConvNext_backbone\n",
    "  n_epochs: 20\n",
    "  num_classes: 2\n",
    "  optimizer:\n",
    "    opt_kwargs:\n",
    "      lr: 0.005\n",
    "    opt_type: adamw\n",
    "  restore_ckpt: null\n",
    "  scheduler:\n",
    "    max_epochs: 20\n",
    "    n_warmup: 10\n",
    "    scheduler_type: cosine_annealing\n",
    "\n",
    "\"\"\"\n",
    "\n",
    "with open(\"sample_config/config.yaml\", \"w+\") as f:\n",
    "    f.write(conf)"
   ]
  },
  {
   "attachments": {},
   "cell_type": "markdown",
   "metadata": {},
   "source": [
    "## Initiate training"
   ]
  },
  {
   "cell_type": "code",
   "execution_count": null,
   "metadata": {},
   "outputs": [],
   "source": [
    "# !python3 pipeline.py --conf sample_config/config.yaml"
   ]
  },
  {
   "attachments": {},
   "cell_type": "markdown",
   "metadata": {},
   "source": [
    "# ROC curve and AUC score\n",
    "\n",
    "### Load model ckpt"
   ]
  },
  {
   "cell_type": "code",
   "execution_count": 2,
   "metadata": {},
   "outputs": [
    {
     "data": {
      "text/plain": [
       "<All keys matched successfully>"
      ]
     },
     "execution_count": 2,
     "metadata": {},
     "output_type": "execute_result"
    }
   ],
   "source": [
    "model_cfg_dict = {\n",
    "    \"type\" : \"ConvNext_backbone\",\n",
    "    \"ConvNext_backbone\" : {\n",
    "        \"in_channels\" : 1,\n",
    "        \"num_classes\" : 2\n",
    "    }\n",
    "}\n",
    "\n",
    "model = get_model(model_config=model_cfg_dict)\n",
    "ckpt = torch.load(f='/media/saitomar/Work/Projects/DeepLense_Test/runs/Task2-ConvNext-0.1/best.pth')\n",
    "model.load_state_dict(ckpt[\"model_state_dict\"])"
   ]
  },
  {
   "attachments": {},
   "cell_type": "markdown",
   "metadata": {},
   "source": [
    "### Prepare test_dataloader"
   ]
  },
  {
   "cell_type": "code",
   "execution_count": 4,
   "metadata": {},
   "outputs": [],
   "source": [
    "root_dir = \"/media/saitomar/Work/Projects/DeepLense_Test/task_2_dataset\"\n",
    "\n",
    "_, _, test_loader = get_dataset_t2(\n",
    "        dataset_dir=root_dir\n",
    "    )"
   ]
  },
  {
   "attachments": {},
   "cell_type": "markdown",
   "metadata": {},
   "source": [
    "### Get model probabilities and plot ROC_curve and calculate AUC_score"
   ]
  },
  {
   "cell_type": "code",
   "execution_count": 6,
   "metadata": {},
   "outputs": [],
   "source": [
    "true_labels, class_probs = generate_model_outputs(model=model, test_loader=test_loader, num_classes=2)\n"
   ]
  },
  {
   "cell_type": "code",
   "execution_count": 11,
   "metadata": {},
   "outputs": [],
   "source": [
    "# Compute ROC curve and AUC score for each class\n",
    "fpr = {}\n",
    "tpr = {}\n",
    "roc_auc = {}\n",
    "for i in range(2):\n",
    "    fpr[i], tpr[i], _ = roc_curve(true_labels, class_probs[i], pos_label=i)\n",
    "    roc_auc[i] = auc(fpr[i], tpr[i])\n",
    "\n"
   ]
  },
  {
   "cell_type": "code",
   "execution_count": 9,
   "metadata": {},
   "outputs": [
    {
     "data": {
      "image/png": "[encoded data removed]",
      "text/plain": [
       "<Figure size 800x800 with 1 Axes>"
      ]
     },
     "metadata": {},
     "output_type": "display_data"
    }
   ],
   "source": [
    "import matplotlib.pyplot as plt\n",
    "plt.figure(figsize=(8, 8))\n",
    "plt.plot(fpr[0], tpr[0], color='darkorange', lw=2, label='Class no is_lens (AUC = %0.2f)' % roc_auc[0])\n",
    "plt.plot(fpr[1], tpr[1], color='green', lw=2, label='Class is_lens (AUC = %0.2f)' % roc_auc[1])\n",
    "\n",
    "plt.plot([0, 1], [0, 1], color='navy', lw=2, linestyle='--')\n",
    "plt.xlim([0.0, 1.0])\n",
    "plt.ylim([0.0, 1.05])\n",
    "plt.xlabel('False Positive Rate')\n",
    "plt.ylabel('True Positive Rate')\n",
    "plt.title('Receiver Operating Characteristic (ROC) Curve')\n",
    "plt.legend(loc=\"lower right\")\n",
    "plt.show()"
   ]
  },
  {
   "cell_type": "code",
   "execution_count": null,
   "metadata": {},
   "outputs": [],
   "source": []
  }
 ],
 "metadata": {
  "kernelspec": {
   "display_name": "unleashing",
   "language": "python",
   "name": "python3"
  },
  "language_info": {
   "codemirror_mode": {
    "name": "ipython",
    "version": 3
   },
   "file_extension": ".py",
   "mimetype": "text/x-python",
   "name": "python",
   "nbconvert_exporter": "python",
   "pygments_lexer": "ipython3",
   "version": "3.8.5"
  },
  "orig_nbformat": 4
 },
 "nbformat": 4,
 "nbformat_minor": 2
}
